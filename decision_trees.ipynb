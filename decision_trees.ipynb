{
 "cells": [
  {
   "cell_type": "code",
   "execution_count": 1,
   "outputs": [],
   "source": [
    "import numpy as np"
   ],
   "metadata": {
    "collapsed": false,
    "pycharm": {
     "name": "#%%\n"
    }
   }
  },
  {
   "cell_type": "code",
   "execution_count": 2,
   "metadata": {
    "collapsed": true
   },
   "outputs": [],
   "source": [
    "class DecisionTreeLearner:\n",
    "    def __init__(self, leaf_size = 1):\n",
    "        self.LEAF = -1\n",
    "        self.leaf_size = leaf_size\n",
    "        self.tree = np.empty()\n",
    "\n",
    "    def build_tree(self, data):\n",
    "        if data.shape[0] <= self.leaf_size or np.all(data[:, -1] == data[:, -1]):\n",
    "            return np.array([self.LEAF, np.mean(data[:,-1]), self.LEAF, self.LEAF], dtype=np.float64).reshape((1,4))\n",
    "        else:\n",
    "            i = self.find_split(data)\n",
    "            SplitVal = np.median(data[:,i])\n",
    "            if np.all(data[:,i]<=SplitVal):\n",
    "                return np.array([self.LEAF, data[-1, 1], self.LEAF, self.LEAF], dtype=np.float64).reshape((1,4))\n",
    "            elif np.all(data[:,i]>SplitVal):\n",
    "                return np.array([self.LEAF, data[-1, 1], self.LEAF, self.LEAF], dtype=np.float64).reshape((1,4))\n",
    "            lefttree = self.build_tree(data[data[:,i] <= SplitVal])\n",
    "            righttree = self.build_tree(data[data[:,i] > SplitVal])\n",
    "            root = np.array([i, SplitVal, 1, lefttree.shape[0] + 1], dtype=np.float64)\n",
    "            return np.vstack(np.vstack(root, lefttree), righttree)\n",
    "\n",
    "    def find_split(self, data):\n",
    "        coef_vals = np.zeros(data.shape[1]-1)\n",
    "        for k in range(data.shape[1]-1):\n",
    "            coef_vals[k] = np.abs(np.corrcoef(data[:,k], data[:,-1])[0,1])\n",
    "        i = np.argmax(coef_vals)\n",
    "        return i\n",
    "\n",
    "    def train(self, data):\n",
    "        self.tree = self.build_tree(data)\n",
    "\n",
    "    def query(self, points):\n",
    "        ans = np.array([])\n",
    "        for point in points:\n",
    "            current_count = 0\n",
    "            current_layer = self.tree[current_count]\n",
    "            while current_layer[3] != self.LEAF:\n",
    "                if point[current_layer[0]] > current_layer[2]:\n",
    "                    current_count += current_layer[3]\n",
    "                    current_layer = self.tree[current_count]\n",
    "                else:\n",
    "                    current_count += current_layer[2]\n",
    "                    current_layer = self.tree[current_count]\n",
    "            if current_layer[3] == self.LEAF:\n",
    "                ans.append(current_layer[1])\n",
    "        return ans"
   ]
  },
  {
   "cell_type": "code",
   "execution_count": null,
   "outputs": [],
   "source": [],
   "metadata": {
    "collapsed": false,
    "pycharm": {
     "name": "#%%\n"
    }
   }
  }
 ],
 "metadata": {
  "kernelspec": {
   "display_name": "Python 3",
   "language": "python",
   "name": "python3"
  },
  "language_info": {
   "codemirror_mode": {
    "name": "ipython",
    "version": 2
   },
   "file_extension": ".py",
   "mimetype": "text/x-python",
   "name": "python",
   "nbconvert_exporter": "python",
   "pygments_lexer": "ipython2",
   "version": "2.7.6"
  }
 },
 "nbformat": 4,
 "nbformat_minor": 0
}