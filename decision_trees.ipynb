{
 "cells": [
  {
   "cell_type": "code",
   "execution_count": 1,
   "outputs": [],
   "source": [
    "import numpy as np"
   ],
   "metadata": {
    "collapsed": false,
    "pycharm": {
     "name": "#%%\n"
    }
   }
  },
  {
   "cell_type": "code",
   "execution_count": 56,
   "metadata": {
    "collapsed": true
   },
   "outputs": [],
   "source": [
    "class DecisionTreeLearner:\n",
    "    def __init__(self, leaf_size = 1):\n",
    "        self.LEAF = -1\n",
    "        self.leaf_size = leaf_size\n",
    "        self.tree = np.empty((1,1))\n",
    "\n",
    "    def build_tree(self, data):\n",
    "        if data.shape[0] <= self.leaf_size or np.all(data[:, -1] == data[:, -1][0]):\n",
    "            return np.array([self.LEAF, np.mean(data[:,-1]), self.LEAF, self.LEAF], dtype=np.float64).reshape((1,4))\n",
    "        else:\n",
    "            i = self.find_split(data)\n",
    "            SplitVal = np.median(data[:,i])\n",
    "            if np.all(data[:,i]<=SplitVal):\n",
    "                return np.array([self.LEAF, data[-1, 1], self.LEAF, self.LEAF], dtype=np.float64).reshape((1,4))\n",
    "            elif np.all(data[:,i]>SplitVal):\n",
    "                return np.array([self.LEAF, data[-1, 1], self.LEAF, self.LEAF], dtype=np.float64).reshape((1,4))\n",
    "            lefttree = self.build_tree(data[data[:,i] <= SplitVal])\n",
    "            righttree = self.build_tree(data[data[:,i] > SplitVal])\n",
    "            root = np.array([i, SplitVal, 1, int(lefttree.shape[0]) + 1], dtype=np.float64).reshape((1,4))\n",
    "            return np.concatenate((root, lefttree, righttree), axis=0)\n",
    "\n",
    "    def find_split(self, data):\n",
    "        coef_vals = np.zeros(data.shape[1]-1)\n",
    "        for k in range(data.shape[1]-1):\n",
    "            coef_vals[k] = np.abs(np.corrcoef(data[:,k], data[:,-1])[0,1])\n",
    "        i = np.argmax(coef_vals)\n",
    "        return i\n",
    "\n",
    "    def train(self, data):\n",
    "        self.tree = self.build_tree(data)\n",
    "\n",
    "    def print_tree(self):\n",
    "        for line in self.tree:\n",
    "            print(line)\n",
    "\n",
    "    def query(self, points):\n",
    "        ans = np.array([])\n",
    "        for point in points:\n",
    "            current_count = 0\n",
    "            current_layer = self.tree[current_count]\n",
    "            while current_layer[3] != self.LEAF:\n",
    "                if point[int(current_layer[0])] > current_layer[1]:\n",
    "                    current_count += int(current_layer[3])\n",
    "                    current_layer = self.tree[current_count]\n",
    "                else:\n",
    "                    current_count += int(current_layer[2])\n",
    "                    current_layer = self.tree[current_count]\n",
    "            if current_layer[3] == self.LEAF:\n",
    "                ans = np.append(ans, current_layer[1])\n",
    "        return ans"
   ]
  },
  {
   "cell_type": "code",
   "execution_count": 57,
   "outputs": [],
   "source": [
    "n = 100\n",
    "x = np.random.uniform(0, 1, (n, 3))\n",
    "y = np.zeros(n)\n",
    "\n",
    "for i in range(n):\n",
    "    y[i] = x[i][0] + x[i][1] + x[i][2]\n",
    "\n",
    "y = y.reshape((n, 1))\n",
    "\n",
    "data = np.concatenate((x, y), axis=1)"
   ],
   "metadata": {
    "collapsed": false,
    "pycharm": {
     "name": "#%%\n"
    }
   }
  },
  {
   "cell_type": "code",
   "execution_count": 58,
   "outputs": [],
   "source": [
    "train_data = data[:60,]\n",
    "test_data = data[60:,]"
   ],
   "metadata": {
    "collapsed": false,
    "pycharm": {
     "name": "#%%\n"
    }
   }
  },
  {
   "cell_type": "code",
   "execution_count": 59,
   "outputs": [],
   "source": [
    "dtlearner = DecisionTreeLearner()"
   ],
   "metadata": {
    "collapsed": false,
    "pycharm": {
     "name": "#%%\n"
    }
   }
  },
  {
   "cell_type": "code",
   "execution_count": 60,
   "outputs": [],
   "source": [
    "dtlearner.train(train_data)"
   ],
   "metadata": {
    "collapsed": false,
    "pycharm": {
     "name": "#%%\n"
    }
   }
  },
  {
   "cell_type": "code",
   "execution_count": 61,
   "outputs": [
    {
     "data": {
      "text/plain": "array([1.97673023, 2.04405817, 1.97673023, 1.67541655, 2.32428113,\n       1.7590017 , 2.32428113, 1.10154374, 1.42253617, 0.74303655,\n       2.1533684 , 0.87759133, 1.62780181, 2.12936319, 2.32428113,\n       0.96632162, 1.32108198, 1.97673023, 1.42874705, 0.653301  ,\n       1.42253617, 1.66319226, 1.49929512, 1.4305536 , 1.80145162,\n       0.9194574 , 1.97673023, 1.67541655, 0.653301  , 1.29239472,\n       0.56148678, 1.66319226, 0.9194574 , 2.1533684 , 1.49929512,\n       1.89372713, 1.64858085, 1.64858085, 2.34532171, 0.87759133])"
     },
     "execution_count": 61,
     "metadata": {},
     "output_type": "execute_result"
    }
   ],
   "source": [
    "dtlearner.query(test_data[:,:3])"
   ],
   "metadata": {
    "collapsed": false,
    "pycharm": {
     "name": "#%%\n"
    }
   }
  },
  {
   "cell_type": "code",
   "execution_count": null,
   "outputs": [],
   "source": [],
   "metadata": {
    "collapsed": false,
    "pycharm": {
     "name": "#%%\n"
    }
   }
  }
 ],
 "metadata": {
  "kernelspec": {
   "display_name": "Python 3",
   "language": "python",
   "name": "python3"
  },
  "language_info": {
   "codemirror_mode": {
    "name": "ipython",
    "version": 2
   },
   "file_extension": ".py",
   "mimetype": "text/x-python",
   "name": "python",
   "nbconvert_exporter": "python",
   "pygments_lexer": "ipython2",
   "version": "2.7.6"
  }
 },
 "nbformat": 4,
 "nbformat_minor": 0
}